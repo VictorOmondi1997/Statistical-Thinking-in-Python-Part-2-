{
 "cells": [
  {
   "cell_type": "markdown",
   "metadata": {},
   "source": [
    "# Libraries "
   ]
  },
  {
   "cell_type": "code",
   "execution_count": 1,
   "metadata": {},
   "outputs": [],
   "source": [
    "import numpy as np\n",
    "import pandas as pd\n",
    "import matplotlib.pyplot as plt\n",
    "import seaborn as sns\n",
    "\n",
    "sns.set()\n",
    "\n",
    "%matplotlib inline"
   ]
  },
  {
   "cell_type": "markdown",
   "metadata": {},
   "source": [
    "# Parameter estimation by optimization\n",
    "\n",
    "When doing statistical inference, we speak the language of probability. A probability distribution that describes your data has parameters. So, a major goal of statistical inference is to estimate the values of these parameters, which allows us to concisely and unambiguously describe our data and draw conclusions from it. We will find the optimal parameters, those that best describe your data.\n",
    "\n",
    "\n",
    "## Optimal parameters\n",
    "\n",
    "\n",
    "> ### Optimal parameters\n",
    "- Parameter values that bring the model in closest agreement with the data\n",
    "\n",
    "> ### Packages to do statistical inference\n",
    "| |package|\n",
    "|---|---|\n",
    "|<img src=\"https://docs.scipy.org/doc/scipy/reference/_static/img/scipy_org_logo.png\" alt=\"scipy_org_logo\" width=\"250\">|`scipy.stats`|\n",
    "|<img src=\"https://www.statsmodels.org/stable/_images/statsmodels-logo-v2-horizontal.svg\" alt=\"statsmodels-logo-v2-horizontal\" width=\"250\">|`statsmodels`|\n",
    "|<img src=\"https://numpy.org/images/logos/numpy.svg\" alt=\"numpy\" style=\"height:50px\">| hacker stats with `numpy`|\n",
    "\n",
    "\n",
    "### How often do we get no-hitters?\n",
    "\n",
    "\n",
    "The number of games played between each no-hitter in the modern era ($1901-2015$) of Major League Baseball is stored in the array `nohitter_times.`"
   ]
  },
  {
   "cell_type": "code",
   "execution_count": 2,
   "metadata": {},
   "outputs": [],
   "source": [
    "nohitter_times = np.array([ 843, 1613, 1101,  215,  684,  814,  278,  324,  161,  219,  545,\n",
    "                           715,  966,  624,   29,  450,  107,   20,   91, 1325,  124, 1468,\n",
    "                           104, 1309,  429,   62, 1878, 1104,  123,  251,   93,  188,  983,\n",
    "                           166,   96,  702,   23,  524,   26,  299,   59,   39,   12,    2,\n",
    "                           308, 1114,  813,  887,  645, 2088,   42, 2090,   11,  886, 1665,\n",
    "                           1084, 2900, 2432,  750, 4021, 1070, 1765, 1322,   26,  548, 1525,\n",
    "                           77, 2181, 2752,  127, 2147,  211,   41, 1575,  151,  479,  697,\n",
    "                           557, 2267,  542,  392,   73,  603,  233,  255,  528,  397, 1529,\n",
    "                           1023, 1194,  462,  583,   37,  943,  996,  480, 1497,  717,  224,\n",
    "                           219, 1531,  498,   44,  288,  267,  600,   52,  269, 1086,  386,\n",
    "                           176, 2199,  216,   54,  675, 1243,  463,  650,  171,  327,  110,\n",
    "                           774,  509,    8,  197,  136,   12, 1124,   64,  380,  811,  232,\n",
    "                           192,  731,  715,  226,  605,  539, 1491,  323,  240,  179,  702,\n",
    "                           156,   82, 1397,  354,  778,  603, 1001,  385,  986,  203,  149,\n",
    "                           576,  445,  180, 1403,  252,  675, 1351, 2983, 1568,   45,  899,\n",
    "                           3260, 1025,   31,  100, 2055, 4043,   79,  238, 3931, 2351,  595,\n",
    "                           110,  215,    0,  563,  206,  660,  242,  577,  179,  157,  192,\n",
    "                           192, 1848,  792, 1693,   55,  388,  225, 1134, 1172, 1555,   31,\n",
    "                           1582, 1044,  378, 1687, 2915,  280,  765, 2819,  511, 1521,  745,\n",
    "                           2491,  580, 2072, 6450,  578,  745, 1075, 1103, 1549, 1520,  138,\n",
    "                           1202,  296,  277,  351,  391,  950,  459,   62, 1056, 1128,  139,\n",
    "                           420,   87,   71,  814,  603, 1349,  162, 1027,  783,  326,  101,\n",
    "                           876,  381,  905,  156,  419,  239,  119,  129,  467])"
   ]
  },
  {
   "cell_type": "markdown",
   "metadata": {},
   "source": [
    "If we assume that no-hitters are described as a Poisson process, then the time between no-hitters is Exponentially distributed. As we have seen, the Exponential distribution has a single parameter, which we will call τ, the typical interval time. The value of the parameter τ that makes the exponential distribution best match the data is the mean interval time (where time is in units of number of games) between no-hitters.\n",
    "\n",
    "We will compute the value of this parameter from the data. Then, `use np.random.exponential()` to \"repeat\" the history of Major League Baseball by drawing inter-no-hitter times from an exponential distribution with the τ we found and plot the histogram as an approximation to the PDF."
   ]
  },
  {
   "cell_type": "code",
   "execution_count": 4,
   "metadata": {},
   "outputs": [
    {
     "data": {
      "image/png": "[encoded data removed]",
      "text/plain": [
       "<Figure size 432x288 with 1 Axes>"
      ]
     },
     "metadata": {
      "needs_background": "light"
     },
     "output_type": "display_data"
    }
   ],
   "source": [
    "# Seed random number generator\n",
    "np.random.seed(42)\n",
    "\n",
    "# Compute mean no-hitter time: tau\n",
    "tau = np.mean(nohitter_times)\n",
    "\n",
    "# Draw out of an exponential distribution with parameter tau: inter_nohitter_time\n",
    "inter_nohitter_time = np.random.exponential(tau, 100000)\n",
    "\n",
    "# Plot the PDF and label axes\n",
    "_ = plt.hist(inter_nohitter_time,\n",
    "             bins=50, density=True, histtype=\"step\")\n",
    "_ = plt.xlabel('Games between no-hitters')\n",
    "_ = plt.ylabel('PDF')\n",
    "\n",
    "# Show the plot\n",
    "plt.show()\n"
   ]
  },
  {
   "cell_type": "markdown",
   "metadata": {},
   "source": [
    "> Note: We see the typical shape of the Exponential distribution, going from a maximum at 0 and decaying to the right."
   ]
  },
  {
   "cell_type": "markdown",
   "metadata": {},
   "source": [
    "### Do the data follow our story?\n",
    "\n",
    "We have modeled no-hitters using an Exponential distribution. Let's create an ECDF of the real data. Overlay the theoretical CDF with the ECDF from the data. This helps us to verify that the Exponential distribution describes the observed data."
   ]
  },
  {
   "cell_type": "code",
   "execution_count": null,
   "metadata": {},
   "outputs": [],
   "source": [
    "# Create an ECDF from real data: x, y\n",
    "x, y = ecdf(nohitter_times)\n",
    "\n",
    "# Create a CDF from theoretical samples: x_theor, y_theor\n",
    "x_theor, y_theor = ecdf(inter_nohitter_time)\n",
    "\n",
    "# Overlay the plots\n",
    "plt.plot(x_theor, y_theor)\n",
    "plt.plot(x, y, marker=\".\", linestyle=\"none\")\n",
    "\n",
    "# Margins and axis labels\n",
    "plt.margins(.2)\n",
    "plt.xlabel('Games between no-hitters')\n",
    "plt.ylabel('CDF')\n",
    "\n",
    "# Show the plot\n",
    "plt.show()\n"
   ]
  }
 ],
 "metadata": {
  "kernelspec": {
   "display_name": "Python 3",
   "language": "python",
   "name": "python3"
  },
  "language_info": {
   "codemirror_mode": {
    "name": "ipython",
    "version": 3
   },
   "file_extension": ".py",
   "mimetype": "text/x-python",
   "name": "python",
   "nbconvert_exporter": "python",
   "pygments_lexer": "ipython3",
   "version": "3.6.5"
  }
 },
 "nbformat": 4,
 "nbformat_minor": 4
}
